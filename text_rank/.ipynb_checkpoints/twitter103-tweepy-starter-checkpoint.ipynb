{
 "cells": [
  {
   "cell_type": "markdown",
   "metadata": {},
   "source": [
    "#Twitter103 - Using Tweepy to Get User Timeline and Followers"
   ]
  },
  {
   "cell_type": "markdown",
   "metadata": {},
   "source": [
    "We use this example\n",
    "to illustrate another Twitter API wrapper - tweepy. It is easier to use, but it also hides more details of twitter API from you. \n",
    "\n",
    "We also use this example to show illustrate how to get user timeline, follows, and how to handle pagination using tweepy's cursor capability."
   ]
  },
  {
   "cell_type": "code",
   "execution_count": 25,
   "metadata": {},
   "outputs": [
    {
     "name": "stdout",
     "output_type": "stream",
     "text": [
      "<tweepy.api.API object at 0x0000000003B546A0>\n"
     ]
    }
   ],
   "source": [
    "import tweepy  #another popular twitter API wrapper\n",
    "import json\n",
    "import config   #twitter OAuth configuration\n",
    "import datetime\n",
    "from pylib import utils\n",
    "\n",
    "# the authentication process for tweepy\n",
    "auth = tweepy.OAuthHandler(config.consumer_key, config.consumer_secret)\n",
    "\n",
    "auth.set_access_token(config.oauth_token, config.oauth_token_secret)\n",
    "\n",
    "api = tweepy.API(auth)\n",
    "\n",
    "print api"
   ]
  },
  {
   "cell_type": "markdown",
   "metadata": {},
   "source": [
    "##Get Timeline of a User"
   ]
  },
  {
   "cell_type": "markdown",
   "metadata": {},
   "source": [
    "for documentation on Tweepy, refer to: http://docs.tweepy.org/en/latest/api.html\n",
    "\n",
    "Instead of returning a python list/dict object that closely maps twitter's raw response,\n",
    "tweepy parses the raw response and make it accessible through its own object models e.g. you can use ```status.id``` instead of ```status['id']```."
   ]
  },
  {
   "cell_type": "code",
   "execution_count": 26,
   "metadata": {},
   "outputs": [],
   "source": [
    "#get user CarlsonNew's timeline\n",
    "tweets = api.user_timeline(id=\"HillaryClinton\", count = 40)  #unlike twitter, no _id is needed."
   ]
  },
  {
   "cell_type": "code",
   "execution_count": 24,
   "metadata": {},
   "outputs": [
    {
     "name": "stdout",
     "output_type": "stream",
     "text": [
      "40\n"
     ]
    }
   ],
   "source": [
    "print len(tweets)"
   ]
  },
  {
   "cell_type": "code",
   "execution_count": 4,
   "metadata": {},
   "outputs": [
    {
     "name": "stdout",
     "output_type": "stream",
     "text": [
      "[2015-10-04 13:07:49] \"Let us then tap our fists in friendship.\" http://t.co/RkRru8dqNE\n",
      "[2015-10-04 03:58:47] A vote for Hillary is a vote for four more years of Kate McKinnon's impression. #citizens http://t.co/8WFlf1dy9n\n",
      "[2015-10-03 23:58:31] RT @mayaharris_: .@HillaryClinton @HRC: 19 #transgender women murdered in 2015—primarily women of color. We have to end the “crisis of tran…\n",
      "[2015-10-03 23:47:10] “Congress must pass the Federal Equality Act.” Read Hillary’s remarks to the @HRC: http://t.co/k4uMCAwp61\n",
      "[2015-10-03 21:06:59] Hillary on the epidemic of gun violence. http://t.co/FkAaVf0WpC\n",
      "[2015-10-03 20:32:04] Grateful to have @NEAtoday on Team Hillary. Educators are the frontline fighters building a stronger America. http://t.co/cdBeoumR8v\n",
      "[2015-10-03 20:11:25] RT @mayaharris_: \"I hope the United States joins many other countries that let transgender people serve openly.\" - @HillaryClinton http://t…\n",
      "[2015-10-03 19:49:54] RT @mayaharris_: .@HillaryClinton: Time to upgrade military service records of those forced out for being gay, so they get \"honorable disch…\n",
      "[2015-10-03 19:27:53] \"Congress must pass the Federal Equality Act [to] finally outlaw discrimination against LGBT people basically everywhere.\" -Hillary\n",
      "[2015-10-03 19:23:22] \"It’s outrageous that, in 2015, you can still be fired for being gay...this kind of discrimination goes against everything we stand for.\"\n",
      "[2015-10-03 19:20:12] \"As President, I will push to cut off federal funding for any public child welfare agency that discriminates against LGBT people.\" -Hillary\n",
      "[2015-10-03 19:18:10] \"Eleven states ban same-sex couples and LGBT individuals from adopting....one of the cruelest vestiges of anti-gay bigotry.\" -Hillary\n",
      "[2015-10-03 19:15:05] \"We need to say with one voice that transgender people are valued, they are loved, they are us\" -Hillary at @HRC today\n",
      "[2015-10-03 17:21:00] La riqueza de la comunidad latina es su gran diversidad. Estamos orgullosos de lanzar Latinos por Hillary. http://t.co/qSx4bqzeqU\n",
      "[2015-10-03 15:31:15] Hillary finally gets to meet the mischievous, trash-eating puppy from the campaign launch video, “Getting Started.”\n",
      "https://t.co/Hiz2r7qRou\n",
      "[2015-10-03 14:43:29] Today the Immigration and Nationality Act turns 50. It was a first step towards making our system fair, but our work remains unfinished.\n",
      "[2015-10-03 04:11:11] RT @MarcAnthony: This election is important for the future of the Latino community, our vote could make the difference @HillaryClinton http…\n",
      "[2015-10-03 03:33:48] ¡Bienvenido a Latinos por Hillary, @marcanthony! Para también unirte textea LATINOS a 47246. http://t.co/PucWkRU7l0\n",
      "[2015-10-03 02:39:28] Join Hillary and @marcanthony: Text LATINOS to 47246 to be part of Latinos for Hillary! http://t.co/5m2FoZc00g\n",
      "[2015-10-03 02:20:39] RT @TelemundoNews: Marc Anthony y Hillary Clinton en el American Airlines Arena http://t.co/MmAZLHNrHQ\n",
      "[2015-10-02 21:15:36] \"I am well aware that this is a political mountain to climb....I will, as your president, never relent on trying to work on this.\" -Hillary\n",
      "[2015-10-02 21:11:55] \"Republicans keep refusing to do anything to protect our communities. They put the NRA ahead of American families. It is wrong.\" -Hillary\n",
      "[2015-10-02 21:08:54] \"We don't just need to pray...We need to act...Republicans and the NRA say, now is not the time to talk about guns. Yes, it is.\" -Hillary\n",
      "[2015-10-02 21:07:03] \"What is wrong with us that we can't stand up to the NRA and the gun lobby and the gun manufacturers they represent?\" -Hillary\n",
      "[2015-10-02 17:30:54] Thanks to #KnowTomorrow student activists, we're better prepared than ever to face the climate challenge. http://t.co/moaclrevjX\n",
      "[2015-10-02 16:41:26] RT @WomenG4Hillary: A mini-Hillary sighting! 😍\n",
      "\n",
      "\"My nana made it for me!\"\n",
      "\n",
      "#Hillary2016 #WomenForHillary http://t.co/BSW9Se4P4S\n",
      "[2015-10-02 15:26:01] RT @mayaharris_: .@HillaryClinton: \"It's a blast from the Jim Crow past.\" Alabama should do the right thing &amp; protect #votingrights. http:/…\n",
      "[2015-10-02 14:53:53] Yet another reason we need to restore key protections of the Voting Rights Act. We're better than this. -H https://t.co/HYM1j2irkm\n",
      "[2015-10-02 02:50:23] Proud to have @wendydavis on Team Hillary. http://t.co/Ck3TxLbCL5\n",
      "[2015-10-02 01:59:08] RT @Ann_OLeary: .@HillaryClinton proudly partnered w/teachers, fighting for kids, her whole career. Teachers have her respect always https:…\n",
      "[2015-10-01 22:04:45] Another devastating shooting. We need sensible gun control measures to save lives, and I will do everything I can to achieve that. -H\n",
      "[2015-10-01 16:34:46] Raising the minimum wage isn’t just a women’s issue -- it’s also a family issue and an economic issue.\n",
      "https://t.co/Nc3IZrWrRy\n",
      "[2015-10-01 14:57:47] RT @TheBriefing2016: .@GOPLeader admits to a taxpayer-funded sham aimed at hurting @HillaryClinton. Watch @brianefallon's take:\n",
      "https://t.c…\n",
      "[2015-10-01 13:15:59] The United States is the only country in the developed world without guaranteed paid leave. That has to change. http://t.co/qafJ7MrTRi\n",
      "[2015-10-01 12:48:26] RT @TheBriefing2016: Speaker-in-Waiting Kevin McCarthy confirms: Benghazi committee is a partisan effort to hurt Hillary's campaign.\n",
      "https:…\n",
      "[2015-10-01 01:32:14] RT @TheBriefing2016: 11. The Zadroga Bill's authorization will lapse tonight. It provides health coverage to 9/11 first responders. The GOP…\n",
      "[2015-10-01 00:36:19] In case you were wondering, you should be following hillaryclinton on Snapchat. 👻 http://t.co/eigWQMKXjj\n",
      "[2015-09-30 21:29:39] Hillary’s working to earn every vote, but needs your support. Donate by tonight's deadline: http://t.co/XlRpuEsjSi http://t.co/yGBds5whPW\n",
      "[2015-09-30 19:37:36] http://t.co/TZG8tREcR1\n",
      "[2015-09-30 16:50:59] The @HillaryforNV team held a focus group with some of Hillary's littlest supporters. 👭\n",
      "https://t.co/OAx1VdOh1M\n"
     ]
    }
   ],
   "source": [
    "for t in tweets:\n",
    "    print \"[%s] %s\"%(t.created_at, t.text)  \n",
    "    #note that t.created_at is a datetime type, the raw response is a UTC string."
   ]
  },
  {
   "cell_type": "code",
   "execution_count": 5,
   "metadata": {},
   "outputs": [
    {
     "name": "stdout",
     "output_type": "stream",
     "text": [
      "<class 'tweepy.models.Status'>\n",
      "<type 'dict'>\n",
      "<type 'list'>\n"
     ]
    }
   ],
   "source": [
    "# the object model appears to stops at the top level.\n",
    "print type(tweets[0]) #tweepy.models.Status\n",
    "\n",
    "print type(tweets[0].entities) #this is a dict type\n",
    "\n",
    "print type(tweets[0].entities['hashtags']) #list\n"
   ]
  },
  {
   "cell_type": "code",
   "execution_count": 6,
   "metadata": {},
   "outputs": [
    {
     "name": "stdout",
     "output_type": "stream",
     "text": [
      "[\n",
      "  \"citizens\", \n",
      "  \"transgender\", \n",
      "  \"KnowTomorrow\", \n",
      "  \"Hillary2016\", \n",
      "  \"WomenForHillary\", \n",
      "  \"votingrights\"\n",
      "]\n"
     ]
    }
   ],
   "source": [
    "# recall that we have done hashtags using the twitter package.\n",
    "\n",
    "hashtags = [ hashtag['text'] for t in tweets\n",
    "               for hashtag in t.entities['hashtags']] #compared with twitter: t['entities']['hashtags']\n",
    "\n",
    "print json.dumps(hashtags[:10],indent=2)\n"
   ]
  },
  {
   "cell_type": "markdown",
   "metadata": {},
   "source": [
    "##Handling Pagination Manually\n",
    "the first method is the manual approach"
   ]
  },
  {
   "cell_type": "code",
   "execution_count": 7,
   "metadata": {},
   "outputs": [
    {
     "name": "stdout",
     "output_type": "stream",
     "text": [
      "fetching page 1...\n",
      "the rest of tweets are old\n",
      "2015-10-04 11:45:09 sleeping for 5 seconds\n"
     ]
    }
   ],
   "source": [
    "#get status after a certain day.\n",
    "page = 1\n",
    "eof = False\n",
    "statuses = []  #always store fetched results so that we don't have to do it again\n",
    "while not eof:\n",
    "    print \"fetching page %i...\"%page\n",
    "    new_statuses = api.user_timeline(id='kaukabs', page=page)\n",
    "    #accumulate tweets\n",
    "    if new_statuses: # are we getting any new tweets?\n",
    "        for status in new_statuses:\n",
    "            #process status here\n",
    "            if status.created_at < datetime.datetime(2015,9,1,0,0,0):\n",
    "                print 'the rest of tweets are old'\n",
    "                eof = True #no more tweets\n",
    "                break\n",
    "            else:\n",
    "                statuses.append(status)\n",
    "        utils.my_sleep(2,5)\n",
    "    else:\n",
    "        eof = True #no more tweets  \n",
    "    page += 1 #go to the next page\n"
   ]
  },
  {
   "cell_type": "code",
   "execution_count": 8,
   "metadata": {},
   "outputs": [
    {
     "name": "stdout",
     "output_type": "stream",
     "text": [
      "2\n"
     ]
    }
   ],
   "source": [
    "print len(statuses)"
   ]
  },
  {
   "cell_type": "markdown",
   "metadata": {},
   "source": [
    "##Use Cursor to automatically handling pagination\n",
    "The strength of tweepy is its automatic handling of pagination using cursor\n",
    "\n",
    "see tweepy documentation - cursor tutorial http://docs.tweepy.org/en/latest/cursor_tutorial.html\n"
   ]
  },
  {
   "cell_type": "code",
   "execution_count": 9,
   "metadata": {},
   "outputs": [
    {
     "name": "stdout",
     "output_type": "stream",
     "text": [
      "the rest of tweets are old\n",
      "66\n"
     ]
    }
   ],
   "source": [
    "statuses2 = []\n",
    "for s in tweepy.Cursor(api.user_timeline, id='CarlsonNews').items():\n",
    "    if s.created_at < datetime.datetime(2015,9,1,0,0,0):\n",
    "        print 'the rest of tweets are old'\n",
    "        break\n",
    "    else:\n",
    "        statuses2.append(s) #store tweeet\n",
    "\n",
    "print len(statuses2)"
   ]
  },
  {
   "cell_type": "markdown",
   "metadata": {},
   "source": [
    "##Get User Followers\n",
    "\n",
    "The twitter's API for getting followers of a user is at https://dev.twitter.com/rest/reference/get/followers/list\n",
    "\n",
    "The maximum per request is 400, default is 20."
   ]
  },
  {
   "cell_type": "code",
   "execution_count": 16,
   "metadata": {},
   "outputs": [],
   "source": [
    "# return information about the user, \n",
    "# you may provider id or screenname as an argument.\n",
    "user = api.get_user('Kaukabs')"
   ]
  },
  {
   "cell_type": "code",
   "execution_count": 17,
   "metadata": {},
   "outputs": [
    {
     "name": "stdout",
     "output_type": "stream",
     "text": [
      "kaukabs is followed by 90\n"
     ]
    }
   ],
   "source": [
    "print \"%s is followed by %i\"%(user.screen_name, user.followers_count)"
   ]
  },
  {
   "cell_type": "code",
   "execution_count": 18,
   "metadata": {},
   "outputs": [],
   "source": [
    "# return 20 followers\n",
    "followers = user.followers()"
   ]
  },
  {
   "cell_type": "code",
   "execution_count": 19,
   "metadata": {},
   "outputs": [
    {
     "name": "stdout",
     "output_type": "stream",
     "text": [
      "20\n"
     ]
    }
   ],
   "source": [
    "print len(followers)"
   ]
  },
  {
   "cell_type": "code",
   "execution_count": 20,
   "metadata": {},
   "outputs": [
    {
     "name": "stdout",
     "output_type": "stream",
     "text": [
      "CaseySoftware, 2007-08-13 23:27:37\r\n",
      "depapyvujywo, 2015-05-17 01:20:50\r\n",
      "hacker_unit, 2015-07-28 11:56:20\r\n",
      "SherbitApp, 2014-07-22 23:52:39\r\n",
      "aakashagrawal4u, 2015-05-14 22:44:53\r\n",
      "sain_vimal, 2014-08-23 08:48:35\r\n",
      "schoubey123, 2014-08-15 11:11:09\r\n",
      "rajatdey2, 2011-07-24 11:27:02\r\n",
      "rahulnema, 2009-11-26 18:09:39\r\n",
      "ITMalaysiaJobs, 2014-04-09 04:28:08\r\n",
      "ladevamshi, 2011-10-26 05:33:35\r\n",
      "ravicrn, 2011-06-30 18:25:47\r\n",
      "neerajkavi, 2010-05-12 10:33:45\r\n",
      "SakalleyDhruv, 2013-12-01 05:35:24\r\n",
      "theculturecraft, 2013-04-11 16:20:15\r\n",
      "section498a, 2013-07-29 17:45:38\r\n",
      "faheemmdkhan, 2011-04-05 16:09:45\r\n",
      "rahmatullahnoor, 2010-11-06 15:08:26\r\n",
      "shahimranalam, 2013-04-05 11:44:25\r\n",
      "Ashdesh88, 2013-03-20 09:52:32\n"
     ]
    }
   ],
   "source": [
    "#\"Screen Name, Created at\"\n",
    "print \"\\r\\n\".join([\"%s, %s\"%(f.screen_name,str(f.created_at)) for f in followers])"
   ]
  },
  {
   "cell_type": "markdown",
   "metadata": {},
   "source": [
    "##Rate Limit Controls\n",
    "you may use tweepy's ```api_limit_status``` to get a summary of rate limits. it returns a json object like this:\n",
    "```\n",
    "{\n",
    "  \"rate_limit_context\": {\n",
    "    \"access_token\": \"28132527-IvOxy38bYsr3iDV64I3lcV65EhfxdVsEyflzT2qCt\"\n",
    "  }, \n",
    "  \"resources\": {\n",
    "    \"account\": {  \n",
    "      \"/account/verify_credentials\": {\n",
    "        \"reset\": 1442769345, \n",
    "        \"limit\": 15, \n",
    "        \"remaining\": 15\n",
    "      }, \n",
    "      \"/account/settings\": {\n",
    "        \"reset\": 1442769345, \n",
    "        \"limit\": 15, \n",
    "        \"remaining\": 15\n",
    "      }, \n",
    "      \"/account/login_verification_enrollment\": {\n",
    "        \"reset\": 1442769345, \n",
    "        \"limit\": 15, \n",
    "        \"remaining\": 15\n",
    "      }, \n",
    "      \n",
    "```\n"
   ]
  },
  {
   "cell_type": "code",
   "execution_count": 27,
   "metadata": {},
   "outputs": [
    {
     "name": "stdout",
     "output_type": "stream",
     "text": [
      "{u'reset': 1443981342, u'limit': 15, u'remaining': 15}\n"
     ]
    }
   ],
   "source": [
    "limit = api.rate_limit_status()\n",
    "#print json.dumps(limit, indent=2)\n",
    "print limit['resources']['followers']['/followers/list']\n"
   ]
  },
  {
   "cell_type": "markdown",
   "metadata": {},
   "source": [
    "For more advanced examples, see [these](http://stackoverflow.com/questions/4130027/python-count-elements-in-list). Note that in these example, the authors were hitting the limit before sleeping. You should try stay below the limit. \n"
   ]
  }
 ],
 "metadata": {
  "kernelspec": {
   "display_name": "Python 3",
   "language": "python",
   "name": "python3"
  },
  "language_info": {
   "codemirror_mode": {
    "name": "ipython",
    "version": 3
   },
   "file_extension": ".py",
   "mimetype": "text/x-python",
   "name": "python",
   "nbconvert_exporter": "python",
   "pygments_lexer": "ipython3",
   "version": "3.7.3"
  }
 },
 "nbformat": 4,
 "nbformat_minor": 1
}
